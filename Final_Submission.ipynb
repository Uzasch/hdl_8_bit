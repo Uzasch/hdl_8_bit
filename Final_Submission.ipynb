{
  "cells": [
    {
      "cell_type": "markdown",
      "metadata": {
        "id": "view-in-github",
        "colab_type": "text"
      },
      "source": [
        "<a href=\"https://colab.research.google.com/github/Uzasch/hdl_8_bit/blob/main/Final_Submission.ipynb\" target=\"_parent\"><img src=\"https://colab.research.google.com/assets/colab-badge.svg\" alt=\"Open In Colab\"/></a>"
      ]
    },
    {
      "cell_type": "code",
      "execution_count": null,
      "metadata": {
        "id": "EVG2KI8Gssgu"
      },
      "outputs": [],
      "source": [
        "#Import the Libraries\n",
        "%matplotlib inline\n",
        "import numpy as np\n",
        "import matplotlib.pyplot as plt\n",
        "import seaborn as sns\n",
        "import pandas as pd\n",
        "import statsmodels.api as sm\n",
        "\n"
      ]
    },
    {
      "cell_type": "code",
      "execution_count": null,
      "metadata": {
        "colab": {
          "base_uri": "https://localhost:8080/",
          "height": 270
        },
        "id": "i5I04aIHssgy",
        "outputId": "4e472c41-bf80-4360-827d-c21086f09bc0"
      },
      "outputs": [
        {
          "output_type": "execute_result",
          "data": {
            "text/plain": [
              "   Age  Sex     ChestPain  RestBP  Chol  Fbs  RestECG  MaxHR  ExAng  Oldpeak  \\\n",
              "1   63    1       typical     145   233    1        2    150      0      2.3   \n",
              "2   67    1  asymptomatic     160   286    0        2    108      1      1.5   \n",
              "3   67    1  asymptomatic     120   229    0        2    129      1      2.6   \n",
              "4   37    1    nonanginal     130   250    0        0    187      0      3.5   \n",
              "5   41    0    nontypical     130   204    0        2    172      0      1.4   \n",
              "\n",
              "   Slope   Ca        Thal  AHD  \n",
              "1      3  0.0       fixed    0  \n",
              "2      2  3.0      normal    1  \n",
              "3      2  2.0  reversable    1  \n",
              "4      3  0.0      normal    0  \n",
              "5      1  0.0      normal    0  "
            ],
            "text/html": [
              "\n",
              "  <div id=\"df-475c7d6b-79c8-4f6b-858c-133214d659c3\">\n",
              "    <div class=\"colab-df-container\">\n",
              "      <div>\n",
              "<style scoped>\n",
              "    .dataframe tbody tr th:only-of-type {\n",
              "        vertical-align: middle;\n",
              "    }\n",
              "\n",
              "    .dataframe tbody tr th {\n",
              "        vertical-align: top;\n",
              "    }\n",
              "\n",
              "    .dataframe thead th {\n",
              "        text-align: right;\n",
              "    }\n",
              "</style>\n",
              "<table border=\"1\" class=\"dataframe\">\n",
              "  <thead>\n",
              "    <tr style=\"text-align: right;\">\n",
              "      <th></th>\n",
              "      <th>Age</th>\n",
              "      <th>Sex</th>\n",
              "      <th>ChestPain</th>\n",
              "      <th>RestBP</th>\n",
              "      <th>Chol</th>\n",
              "      <th>Fbs</th>\n",
              "      <th>RestECG</th>\n",
              "      <th>MaxHR</th>\n",
              "      <th>ExAng</th>\n",
              "      <th>Oldpeak</th>\n",
              "      <th>Slope</th>\n",
              "      <th>Ca</th>\n",
              "      <th>Thal</th>\n",
              "      <th>AHD</th>\n",
              "    </tr>\n",
              "  </thead>\n",
              "  <tbody>\n",
              "    <tr>\n",
              "      <th>1</th>\n",
              "      <td>63</td>\n",
              "      <td>1</td>\n",
              "      <td>typical</td>\n",
              "      <td>145</td>\n",
              "      <td>233</td>\n",
              "      <td>1</td>\n",
              "      <td>2</td>\n",
              "      <td>150</td>\n",
              "      <td>0</td>\n",
              "      <td>2.3</td>\n",
              "      <td>3</td>\n",
              "      <td>0.0</td>\n",
              "      <td>fixed</td>\n",
              "      <td>0</td>\n",
              "    </tr>\n",
              "    <tr>\n",
              "      <th>2</th>\n",
              "      <td>67</td>\n",
              "      <td>1</td>\n",
              "      <td>asymptomatic</td>\n",
              "      <td>160</td>\n",
              "      <td>286</td>\n",
              "      <td>0</td>\n",
              "      <td>2</td>\n",
              "      <td>108</td>\n",
              "      <td>1</td>\n",
              "      <td>1.5</td>\n",
              "      <td>2</td>\n",
              "      <td>3.0</td>\n",
              "      <td>normal</td>\n",
              "      <td>1</td>\n",
              "    </tr>\n",
              "    <tr>\n",
              "      <th>3</th>\n",
              "      <td>67</td>\n",
              "      <td>1</td>\n",
              "      <td>asymptomatic</td>\n",
              "      <td>120</td>\n",
              "      <td>229</td>\n",
              "      <td>0</td>\n",
              "      <td>2</td>\n",
              "      <td>129</td>\n",
              "      <td>1</td>\n",
              "      <td>2.6</td>\n",
              "      <td>2</td>\n",
              "      <td>2.0</td>\n",
              "      <td>reversable</td>\n",
              "      <td>1</td>\n",
              "    </tr>\n",
              "    <tr>\n",
              "      <th>4</th>\n",
              "      <td>37</td>\n",
              "      <td>1</td>\n",
              "      <td>nonanginal</td>\n",
              "      <td>130</td>\n",
              "      <td>250</td>\n",
              "      <td>0</td>\n",
              "      <td>0</td>\n",
              "      <td>187</td>\n",
              "      <td>0</td>\n",
              "      <td>3.5</td>\n",
              "      <td>3</td>\n",
              "      <td>0.0</td>\n",
              "      <td>normal</td>\n",
              "      <td>0</td>\n",
              "    </tr>\n",
              "    <tr>\n",
              "      <th>5</th>\n",
              "      <td>41</td>\n",
              "      <td>0</td>\n",
              "      <td>nontypical</td>\n",
              "      <td>130</td>\n",
              "      <td>204</td>\n",
              "      <td>0</td>\n",
              "      <td>2</td>\n",
              "      <td>172</td>\n",
              "      <td>0</td>\n",
              "      <td>1.4</td>\n",
              "      <td>1</td>\n",
              "      <td>0.0</td>\n",
              "      <td>normal</td>\n",
              "      <td>0</td>\n",
              "    </tr>\n",
              "  </tbody>\n",
              "</table>\n",
              "</div>\n",
              "      <button class=\"colab-df-convert\" onclick=\"convertToInteractive('df-475c7d6b-79c8-4f6b-858c-133214d659c3')\"\n",
              "              title=\"Convert this dataframe to an interactive table.\"\n",
              "              style=\"display:none;\">\n",
              "        \n",
              "  <svg xmlns=\"http://www.w3.org/2000/svg\" height=\"24px\"viewBox=\"0 0 24 24\"\n",
              "       width=\"24px\">\n",
              "    <path d=\"M0 0h24v24H0V0z\" fill=\"none\"/>\n",
              "    <path d=\"M18.56 5.44l.94 2.06.94-2.06 2.06-.94-2.06-.94-.94-2.06-.94 2.06-2.06.94zm-11 1L8.5 8.5l.94-2.06 2.06-.94-2.06-.94L8.5 2.5l-.94 2.06-2.06.94zm10 10l.94 2.06.94-2.06 2.06-.94-2.06-.94-.94-2.06-.94 2.06-2.06.94z\"/><path d=\"M17.41 7.96l-1.37-1.37c-.4-.4-.92-.59-1.43-.59-.52 0-1.04.2-1.43.59L10.3 9.45l-7.72 7.72c-.78.78-.78 2.05 0 2.83L4 21.41c.39.39.9.59 1.41.59.51 0 1.02-.2 1.41-.59l7.78-7.78 2.81-2.81c.8-.78.8-2.07 0-2.86zM5.41 20L4 18.59l7.72-7.72 1.47 1.35L5.41 20z\"/>\n",
              "  </svg>\n",
              "      </button>\n",
              "      \n",
              "  <style>\n",
              "    .colab-df-container {\n",
              "      display:flex;\n",
              "      flex-wrap:wrap;\n",
              "      gap: 12px;\n",
              "    }\n",
              "\n",
              "    .colab-df-convert {\n",
              "      background-color: #E8F0FE;\n",
              "      border: none;\n",
              "      border-radius: 50%;\n",
              "      cursor: pointer;\n",
              "      display: none;\n",
              "      fill: #1967D2;\n",
              "      height: 32px;\n",
              "      padding: 0 0 0 0;\n",
              "      width: 32px;\n",
              "    }\n",
              "\n",
              "    .colab-df-convert:hover {\n",
              "      background-color: #E2EBFA;\n",
              "      box-shadow: 0px 1px 2px rgba(60, 64, 67, 0.3), 0px 1px 3px 1px rgba(60, 64, 67, 0.15);\n",
              "      fill: #174EA6;\n",
              "    }\n",
              "\n",
              "    [theme=dark] .colab-df-convert {\n",
              "      background-color: #3B4455;\n",
              "      fill: #D2E3FC;\n",
              "    }\n",
              "\n",
              "    [theme=dark] .colab-df-convert:hover {\n",
              "      background-color: #434B5C;\n",
              "      box-shadow: 0px 1px 3px 1px rgba(0, 0, 0, 0.15);\n",
              "      filter: drop-shadow(0px 1px 2px rgba(0, 0, 0, 0.3));\n",
              "      fill: #FFFFFF;\n",
              "    }\n",
              "  </style>\n",
              "\n",
              "      <script>\n",
              "        const buttonEl =\n",
              "          document.querySelector('#df-475c7d6b-79c8-4f6b-858c-133214d659c3 button.colab-df-convert');\n",
              "        buttonEl.style.display =\n",
              "          google.colab.kernel.accessAllowed ? 'block' : 'none';\n",
              "\n",
              "        async function convertToInteractive(key) {\n",
              "          const element = document.querySelector('#df-475c7d6b-79c8-4f6b-858c-133214d659c3');\n",
              "          const dataTable =\n",
              "            await google.colab.kernel.invokeFunction('convertToInteractive',\n",
              "                                                     [key], {});\n",
              "          if (!dataTable) return;\n",
              "\n",
              "          const docLinkHtml = 'Like what you see? Visit the ' +\n",
              "            '<a target=\"_blank\" href=https://colab.research.google.com/notebooks/data_table.ipynb>data table notebook</a>'\n",
              "            + ' to learn more about interactive tables.';\n",
              "          element.innerHTML = '';\n",
              "          dataTable['output_type'] = 'display_data';\n",
              "          await google.colab.output.renderOutput(dataTable, element);\n",
              "          const docLink = document.createElement('div');\n",
              "          docLink.innerHTML = docLinkHtml;\n",
              "          element.appendChild(docLink);\n",
              "        }\n",
              "      </script>\n",
              "    </div>\n",
              "  </div>\n",
              "  "
            ]
          },
          "metadata": {},
          "execution_count": 7
        }
      ],
      "source": [
        "df=pd.read_csv(\"heart_disease.csv.txt\")\n",
        "df['AHD'] = df.AHD.replace({\"No\":0, \"Yes\": 1})\n",
        "df.head()\n",
        "\n"
      ]
    },
    {
      "cell_type": "code",
      "execution_count": null,
      "metadata": {
        "colab": {
          "base_uri": "https://localhost:8080/",
          "height": 289
        },
        "id": "MXZRqa2Wssg1",
        "outputId": "d0ba31bf-03af-4b2e-eb4b-7d86b1b26b12"
      },
      "outputs": [
        {
          "output_type": "execute_result",
          "data": {
            "text/plain": [
              "<class 'statsmodels.iolib.summary.Summary'>\n",
              "\"\"\"\n",
              "                 Generalized Linear Model Regression Results                  \n",
              "==============================================================================\n",
              "Dep. Variable:                    AHD   No. Observations:                  303\n",
              "Model:                            GLM   Df Residuals:                      301\n",
              "Model Family:                Binomial   Df Model:                            1\n",
              "Link Function:                  logit   Scale:                          1.0000\n",
              "Method:                          IRLS   Log-Likelihood:                -201.27\n",
              "Date:                Thu, 23 Jun 2022   Deviance:                       402.54\n",
              "Time:                        14:05:48   Pearson chi2:                     303.\n",
              "No. Iterations:                     4                                         \n",
              "Covariance Type:            nonrobust                                         \n",
              "==============================================================================\n",
              "                 coef    std err          z      P>|z|      [0.025      0.975]\n",
              "------------------------------------------------------------------------------\n",
              "Intercept     -3.0059      0.759     -3.960      0.000      -4.494      -1.518\n",
              "Age            0.0520      0.014      3.803      0.000       0.025       0.079\n",
              "==============================================================================\n",
              "\"\"\""
            ],
            "text/html": [
              "<table class=\"simpletable\">\n",
              "<caption>Generalized Linear Model Regression Results</caption>\n",
              "<tr>\n",
              "  <th>Dep. Variable:</th>          <td>AHD</td>       <th>  No. Observations:  </th>  <td>   303</td> \n",
              "</tr>\n",
              "<tr>\n",
              "  <th>Model:</th>                  <td>GLM</td>       <th>  Df Residuals:      </th>  <td>   301</td> \n",
              "</tr>\n",
              "<tr>\n",
              "  <th>Model Family:</th>        <td>Binomial</td>     <th>  Df Model:          </th>  <td>     1</td> \n",
              "</tr>\n",
              "<tr>\n",
              "  <th>Link Function:</th>         <td>logit</td>      <th>  Scale:             </th> <td>  1.0000</td>\n",
              "</tr>\n",
              "<tr>\n",
              "  <th>Method:</th>                <td>IRLS</td>       <th>  Log-Likelihood:    </th> <td> -201.27</td>\n",
              "</tr>\n",
              "<tr>\n",
              "  <th>Date:</th>            <td>Thu, 23 Jun 2022</td> <th>  Deviance:          </th> <td>  402.54</td>\n",
              "</tr>\n",
              "<tr>\n",
              "  <th>Time:</th>                <td>14:05:48</td>     <th>  Pearson chi2:      </th>  <td>  303.</td> \n",
              "</tr>\n",
              "<tr>\n",
              "  <th>No. Iterations:</th>          <td>4</td>        <th>                     </th>     <td> </td>   \n",
              "</tr>\n",
              "<tr>\n",
              "  <th>Covariance Type:</th>     <td>nonrobust</td>    <th>                     </th>     <td> </td>   \n",
              "</tr>\n",
              "</table>\n",
              "<table class=\"simpletable\">\n",
              "<tr>\n",
              "      <td></td>         <th>coef</th>     <th>std err</th>      <th>z</th>      <th>P>|z|</th>  <th>[0.025</th>    <th>0.975]</th>  \n",
              "</tr>\n",
              "<tr>\n",
              "  <th>Intercept</th> <td>   -3.0059</td> <td>    0.759</td> <td>   -3.960</td> <td> 0.000</td> <td>   -4.494</td> <td>   -1.518</td>\n",
              "</tr>\n",
              "<tr>\n",
              "  <th>Age</th>       <td>    0.0520</td> <td>    0.014</td> <td>    3.803</td> <td> 0.000</td> <td>    0.025</td> <td>    0.079</td>\n",
              "</tr>\n",
              "</table>"
            ]
          },
          "metadata": {},
          "execution_count": 8
        }
      ],
      "source": [
        "model = sm.GLM.from_formula(\"AHD ~ Age\", family = sm.families.Binomial(), data=df )\n",
        "result = model.fit()\n",
        "result.summary()\n"
      ]
    },
    {
      "cell_type": "code",
      "execution_count": null,
      "metadata": {
        "colab": {
          "base_uri": "https://localhost:8080/"
        },
        "id": "UyE5q0o9ssg3",
        "outputId": "1af14022-ab23-4090-d638-c08679c5221f"
      },
      "outputs": [
        {
          "output_type": "stream",
          "name": "stdout",
          "text": [
            "AHD            0         1\n",
            "Sex1                      \n",
            "Female  0.742268  0.257732\n",
            "Male    0.446602  0.553398\n"
          ]
        }
      ],
      "source": [
        "\n",
        "df[\"Sex1\"] = df.Sex.replace({1: \"Male\", 0:\"Female\"})\n",
        "c = pd.crosstab(df.Sex1, df.AHD)\n",
        "c = c.apply(lambda x: x/x.sum(), axis=1)\n",
        "print(c)\n"
      ]
    },
    {
      "cell_type": "code",
      "execution_count": null,
      "metadata": {
        "id": "7Ji_k-Alssg5"
      },
      "outputs": [],
      "source": [
        "c[\"odds\"] = c.loc[:, 1] / c.loc[:, 0]"
      ]
    },
    {
      "cell_type": "code",
      "execution_count": null,
      "metadata": {
        "colab": {
          "base_uri": "https://localhost:8080/"
        },
        "id": "8uJAC9uWssg6",
        "outputId": "3c6fa5f9-f70c-47de-ead5-d0c115773def"
      },
      "outputs": [
        {
          "output_type": "execute_result",
          "data": {
            "text/plain": [
              "3.5686956521739135"
            ]
          },
          "metadata": {},
          "execution_count": 11
        }
      ],
      "source": [
        "c.odds.Male / c.odds.Female"
      ]
    },
    {
      "cell_type": "code",
      "execution_count": null,
      "metadata": {
        "id": "3vXgHpodssg7"
      },
      "outputs": [],
      "source": [
        "c['logodds'] = np.log(c.odds)"
      ]
    },
    {
      "cell_type": "code",
      "execution_count": null,
      "metadata": {
        "colab": {
          "base_uri": "https://localhost:8080/",
          "height": 289
        },
        "id": "-JcDVZUGssg8",
        "outputId": "120c9363-b8ea-4118-8bf9-953bcaa3ec52"
      },
      "outputs": [
        {
          "output_type": "execute_result",
          "data": {
            "text/plain": [
              "<class 'statsmodels.iolib.summary.Summary'>\n",
              "\"\"\"\n",
              "                 Generalized Linear Model Regression Results                  \n",
              "==============================================================================\n",
              "Dep. Variable:                    AHD   No. Observations:                  303\n",
              "Model:                            GLM   Df Residuals:                      301\n",
              "Model Family:                Binomial   Df Model:                            1\n",
              "Link Function:                  logit   Scale:                          1.0000\n",
              "Method:                          IRLS   Log-Likelihood:                -196.97\n",
              "Date:                Thu, 23 Jun 2022   Deviance:                       393.93\n",
              "Time:                        14:06:08   Pearson chi2:                     303.\n",
              "No. Iterations:                     4                                         \n",
              "Covariance Type:            nonrobust                                         \n",
              "================================================================================\n",
              "                   coef    std err          z      P>|z|      [0.025      0.975]\n",
              "--------------------------------------------------------------------------------\n",
              "Intercept       -1.0578      0.232     -4.557      0.000      -1.513      -0.603\n",
              "Sex1[T.Male]     1.2722      0.271      4.692      0.000       0.741       1.804\n",
              "================================================================================\n",
              "\"\"\""
            ],
            "text/html": [
              "<table class=\"simpletable\">\n",
              "<caption>Generalized Linear Model Regression Results</caption>\n",
              "<tr>\n",
              "  <th>Dep. Variable:</th>          <td>AHD</td>       <th>  No. Observations:  </th>  <td>   303</td> \n",
              "</tr>\n",
              "<tr>\n",
              "  <th>Model:</th>                  <td>GLM</td>       <th>  Df Residuals:      </th>  <td>   301</td> \n",
              "</tr>\n",
              "<tr>\n",
              "  <th>Model Family:</th>        <td>Binomial</td>     <th>  Df Model:          </th>  <td>     1</td> \n",
              "</tr>\n",
              "<tr>\n",
              "  <th>Link Function:</th>         <td>logit</td>      <th>  Scale:             </th> <td>  1.0000</td>\n",
              "</tr>\n",
              "<tr>\n",
              "  <th>Method:</th>                <td>IRLS</td>       <th>  Log-Likelihood:    </th> <td> -196.97</td>\n",
              "</tr>\n",
              "<tr>\n",
              "  <th>Date:</th>            <td>Thu, 23 Jun 2022</td> <th>  Deviance:          </th> <td>  393.93</td>\n",
              "</tr>\n",
              "<tr>\n",
              "  <th>Time:</th>                <td>14:06:08</td>     <th>  Pearson chi2:      </th>  <td>  303.</td> \n",
              "</tr>\n",
              "<tr>\n",
              "  <th>No. Iterations:</th>          <td>4</td>        <th>                     </th>     <td> </td>   \n",
              "</tr>\n",
              "<tr>\n",
              "  <th>Covariance Type:</th>     <td>nonrobust</td>    <th>                     </th>     <td> </td>   \n",
              "</tr>\n",
              "</table>\n",
              "<table class=\"simpletable\">\n",
              "<tr>\n",
              "        <td></td>          <th>coef</th>     <th>std err</th>      <th>z</th>      <th>P>|z|</th>  <th>[0.025</th>    <th>0.975]</th>  \n",
              "</tr>\n",
              "<tr>\n",
              "  <th>Intercept</th>    <td>   -1.0578</td> <td>    0.232</td> <td>   -4.557</td> <td> 0.000</td> <td>   -1.513</td> <td>   -0.603</td>\n",
              "</tr>\n",
              "<tr>\n",
              "  <th>Sex1[T.Male]</th> <td>    1.2722</td> <td>    0.271</td> <td>    4.692</td> <td> 0.000</td> <td>    0.741</td> <td>    1.804</td>\n",
              "</tr>\n",
              "</table>"
            ]
          },
          "metadata": {},
          "execution_count": 13
        }
      ],
      "source": [
        "model = sm.GLM.from_formula(\"AHD ~ Sex1\", family = sm.families.Binomial(), data=df)\n",
        "result = model.fit()\n",
        "result.summary()\n",
        "\n"
      ]
    },
    {
      "cell_type": "code",
      "execution_count": null,
      "metadata": {
        "colab": {
          "base_uri": "https://localhost:8080/"
        },
        "id": "bZG9QeS_ssg-",
        "outputId": "6bc62b55-6790-4dba-cc20-9f3a6f0b1f06"
      },
      "outputs": [
        {
          "output_type": "execute_result",
          "data": {
            "text/plain": [
              "1.27220016549331"
            ]
          },
          "metadata": {},
          "execution_count": 14
        }
      ],
      "source": [
        "c.logodds.Male - c.logodds.Female"
      ]
    },
    {
      "cell_type": "code",
      "execution_count": null,
      "metadata": {
        "id": "SyUBx6YksshA"
      },
      "outputs": [],
      "source": [
        "df[\"Sex1\"] = df.Sex.replace({1: \"Male\", 0:\"Female\"})\n",
        "c = pd.crosstab(df.Sex1, df.AHD)\n",
        "c = c.apply(lambda x: x/x.sum(), axis=1)\n"
      ]
    },
    {
      "cell_type": "code",
      "execution_count": null,
      "metadata": {
        "colab": {
          "base_uri": "https://localhost:8080/",
          "height": 310
        },
        "id": "GjSpb3mBsshB",
        "outputId": "e1d8534e-1216-4919-f286-e43cc5a76d33"
      },
      "outputs": [
        {
          "output_type": "execute_result",
          "data": {
            "text/plain": [
              "<class 'statsmodels.iolib.summary.Summary'>\n",
              "\"\"\"\n",
              "                 Generalized Linear Model Regression Results                  \n",
              "==============================================================================\n",
              "Dep. Variable:                    AHD   No. Observations:                  303\n",
              "Model:                            GLM   Df Residuals:                      300\n",
              "Model Family:                Binomial   Df Model:                            2\n",
              "Link Function:                  logit   Scale:                          1.0000\n",
              "Method:                          IRLS   Log-Likelihood:                -186.15\n",
              "Date:                Thu, 23 Jun 2022   Deviance:                       372.31\n",
              "Time:                        14:06:13   Pearson chi2:                     298.\n",
              "No. Iterations:                     4                                         \n",
              "Covariance Type:            nonrobust                                         \n",
              "================================================================================\n",
              "                   coef    std err          z      P>|z|      [0.025      0.975]\n",
              "--------------------------------------------------------------------------------\n",
              "Intercept       -4.8077      0.898     -5.353      0.000      -6.568      -3.047\n",
              "Sex1[T.Male]     1.4989      0.289      5.179      0.000       0.932       2.066\n",
              "Age              0.0657      0.015      4.427      0.000       0.037       0.095\n",
              "================================================================================\n",
              "\"\"\""
            ],
            "text/html": [
              "<table class=\"simpletable\">\n",
              "<caption>Generalized Linear Model Regression Results</caption>\n",
              "<tr>\n",
              "  <th>Dep. Variable:</th>          <td>AHD</td>       <th>  No. Observations:  </th>  <td>   303</td> \n",
              "</tr>\n",
              "<tr>\n",
              "  <th>Model:</th>                  <td>GLM</td>       <th>  Df Residuals:      </th>  <td>   300</td> \n",
              "</tr>\n",
              "<tr>\n",
              "  <th>Model Family:</th>        <td>Binomial</td>     <th>  Df Model:          </th>  <td>     2</td> \n",
              "</tr>\n",
              "<tr>\n",
              "  <th>Link Function:</th>         <td>logit</td>      <th>  Scale:             </th> <td>  1.0000</td>\n",
              "</tr>\n",
              "<tr>\n",
              "  <th>Method:</th>                <td>IRLS</td>       <th>  Log-Likelihood:    </th> <td> -186.15</td>\n",
              "</tr>\n",
              "<tr>\n",
              "  <th>Date:</th>            <td>Thu, 23 Jun 2022</td> <th>  Deviance:          </th> <td>  372.31</td>\n",
              "</tr>\n",
              "<tr>\n",
              "  <th>Time:</th>                <td>14:06:13</td>     <th>  Pearson chi2:      </th>  <td>  298.</td> \n",
              "</tr>\n",
              "<tr>\n",
              "  <th>No. Iterations:</th>          <td>4</td>        <th>                     </th>     <td> </td>   \n",
              "</tr>\n",
              "<tr>\n",
              "  <th>Covariance Type:</th>     <td>nonrobust</td>    <th>                     </th>     <td> </td>   \n",
              "</tr>\n",
              "</table>\n",
              "<table class=\"simpletable\">\n",
              "<tr>\n",
              "        <td></td>          <th>coef</th>     <th>std err</th>      <th>z</th>      <th>P>|z|</th>  <th>[0.025</th>    <th>0.975]</th>  \n",
              "</tr>\n",
              "<tr>\n",
              "  <th>Intercept</th>    <td>   -4.8077</td> <td>    0.898</td> <td>   -5.353</td> <td> 0.000</td> <td>   -6.568</td> <td>   -3.047</td>\n",
              "</tr>\n",
              "<tr>\n",
              "  <th>Sex1[T.Male]</th> <td>    1.4989</td> <td>    0.289</td> <td>    5.179</td> <td> 0.000</td> <td>    0.932</td> <td>    2.066</td>\n",
              "</tr>\n",
              "<tr>\n",
              "  <th>Age</th>          <td>    0.0657</td> <td>    0.015</td> <td>    4.427</td> <td> 0.000</td> <td>    0.037</td> <td>    0.095</td>\n",
              "</tr>\n",
              "</table>"
            ]
          },
          "metadata": {},
          "execution_count": 16
        }
      ],
      "source": [
        "model = sm.GLM.from_formula(\"AHD ~ Age + Sex1\", family = sm.families.Binomial(), data=df)\n",
        "result = model.fit()\n",
        "result.summary()\n"
      ]
    },
    {
      "cell_type": "code",
      "execution_count": null,
      "metadata": {
        "colab": {
          "base_uri": "https://localhost:8080/",
          "height": 420
        },
        "id": "JR4qdOXisshC",
        "outputId": "f870bc68-35ee-43c5-a9bd-62537c62cb24"
      },
      "outputs": [
        {
          "output_type": "stream",
          "name": "stderr",
          "text": [
            "/usr/local/lib/python3.7/dist-packages/statsmodels/sandbox/predict_functional.py:171: ValueWarning: 'RestECG', 'ChestPain', 'ExAng', 'Fbs', 'Ca', 'RestBP', 'MaxHR', 'Oldpeak', 'Slope', 'Thal' in data frame but not in summaries or values.\n",
            "  ValueWarning)\n",
            "/usr/local/lib/python3.7/dist-packages/statsmodels/sandbox/predict_functional.py:429: FutureWarning: Support for multi-dimensional indexing (e.g. `obj[:, None]`) is deprecated and will be removed in a future version.  Convert to a numpy array before indexing instead.\n",
            "  bz /= sigma[:, None]\n",
            "/usr/local/lib/python3.7/dist-packages/seaborn/_decorators.py:43: FutureWarning: Pass the following variables as keyword args: x, y. From version 0.12, the only valid positional argument will be `data`, and passing other arguments without an explicit keyword will result in an error or misinterpretation.\n",
            "  FutureWarning\n"
          ]
        },
        {
          "output_type": "execute_result",
          "data": {
            "text/plain": [
              "Text(0, 0.5, 'Heart Disease')"
            ]
          },
          "metadata": {},
          "execution_count": 17
        },
        {
          "output_type": "display_data",
          "data": {
            "text/plain": [
              "<Figure size 432x288 with 1 Axes>"
            ],
            "image/png": "[encoded data removed]"
          },
          "metadata": {
            "needs_background": "light"
          }
        }
      ],
      "source": [
        "from statsmodels.sandbox.predict_functional import predict_functional\n",
        "values = {\"Sex1\": \"Female\", \"Sex\":0, \"AHD\": 1, \"Chol\": 250}\n",
        "pr, cb, fv = predict_functional(result, \"Age\", values=values, ci_method=\"simultaneous\")\n",
        "ax = sns.lineplot(fv, pr, lw=4)\n",
        "ax.fill_between(fv, cb[:, 0], cb[:, 1], color='grey', alpha=0.4)\n",
        "ax.set_xlabel(\"Age\")\n",
        "ax.set_ylabel(\"Heart Disease\")\n",
        "\n"
      ]
    },
    {
      "cell_type": "code",
      "execution_count": null,
      "metadata": {
        "colab": {
          "base_uri": "https://localhost:8080/",
          "height": 356
        },
        "id": "iQw45tP2sshD",
        "outputId": "86224898-113f-4996-a557-fc12c04726ea"
      },
      "outputs": [
        {
          "output_type": "stream",
          "name": "stderr",
          "text": [
            "/usr/local/lib/python3.7/dist-packages/seaborn/_decorators.py:43: FutureWarning: Pass the following variables as keyword args: x, y. From version 0.12, the only valid positional argument will be `data`, and passing other arguments without an explicit keyword will result in an error or misinterpretation.\n",
            "  FutureWarning\n"
          ]
        },
        {
          "output_type": "execute_result",
          "data": {
            "text/plain": [
              "Text(0, 0.5, 'Heart Disease')"
            ]
          },
          "metadata": {},
          "execution_count": 18
        },
        {
          "output_type": "display_data",
          "data": {
            "text/plain": [
              "<Figure size 432x288 with 1 Axes>"
            ],
            "image/png": "[encoded data removed]"
          },
          "metadata": {
            "needs_background": "light"
          }
        }
      ],
      "source": [
        "pr1 = 1 / (1 + np.exp(-pr))\n",
        "cb1 = 1 / (1 + np.exp(-cb))\n",
        "ax = sns.lineplot(fv, pr1, lw=4)\n",
        "ax.fill_between(fv, cb1[:, 0], cb[:, 1], color='grey', alpha=0.4)\n",
        "ax.set_xlabel(\"Age\", size=15)\n",
        "ax.set_ylabel(\"Heart Disease\")\n"
      ]
    },
    {
      "cell_type": "code",
      "execution_count": null,
      "metadata": {
        "colab": {
          "base_uri": "https://localhost:8080/",
          "height": 300
        },
        "id": "UdY2leIasshE",
        "outputId": "efa0faf5-dd80-473c-b0e7-db63d54201d0"
      },
      "outputs": [
        {
          "output_type": "display_data",
          "data": {
            "text/plain": [
              "<Figure size 432x288 with 1 Axes>"
            ],
            "image/png": "[encoded data removed]"
          },
          "metadata": {
            "needs_background": "light"
          }
        }
      ],
      "source": [
        "from statsmodels.graphics.regressionplots import add_lowess\n",
        "fig = result.plot_partial_residuals(\"Age\")\n",
        "ax = fig.get_axes()[0]\n",
        "ax.lines[0].set_alpha(0.5)\n",
        "_ = add_lowess(ax)\n"
      ]
    },
    {
      "cell_type": "code",
      "execution_count": null,
      "metadata": {
        "colab": {
          "base_uri": "https://localhost:8080/",
          "height": 458
        },
        "id": "hNWh4I3VsshF",
        "outputId": "5b4d8bd8-789b-4fe8-bbc1-122cdd0efb00"
      },
      "outputs": [
        {
          "output_type": "execute_result",
          "data": {
            "text/plain": [
              "                Age      Chol    RestBP       Fbs   RestECG     Slope  \\\n",
              "Age        1.000000  0.208950  0.284946  0.118530  0.148868  0.161770   \n",
              "Chol       0.208950  1.000000  0.130120  0.009841  0.171043 -0.004062   \n",
              "RestBP     0.284946  0.130120  1.000000  0.175340  0.146560  0.117382   \n",
              "Fbs        0.118530  0.009841  0.175340  1.000000  0.069564  0.059894   \n",
              "RestECG    0.148868  0.171043  0.146560  0.069564  1.000000  0.133946   \n",
              "Slope      0.161770 -0.004062  0.117382  0.059894  0.133946  1.000000   \n",
              "Oldpeak    0.203805  0.046564  0.189171  0.005747  0.114133  0.577537   \n",
              "Ca         0.362605  0.119000  0.098773  0.145478  0.128343  0.110119   \n",
              "ExAng      0.091661  0.061310  0.064762  0.025665  0.084867  0.257748   \n",
              "ChestPain -0.173124 -0.015387 -0.145149 -0.023976 -0.157005 -0.250500   \n",
              "Thal       0.061823  0.080874  0.057602 -0.007605 -0.011543  0.106051   \n",
              "\n",
              "            Oldpeak        Ca     ExAng  ChestPain      Thal  \n",
              "Age        0.203805  0.362605  0.091661  -0.173124  0.061823  \n",
              "Chol       0.046564  0.119000  0.061310  -0.015387  0.080874  \n",
              "RestBP     0.189171  0.098773  0.064762  -0.145149  0.057602  \n",
              "Fbs        0.005747  0.145478  0.025665  -0.023976 -0.007605  \n",
              "RestECG    0.114133  0.128343  0.084867  -0.157005 -0.011543  \n",
              "Slope      0.577537  0.110119  0.257748  -0.250500  0.106051  \n",
              "Oldpeak    1.000000  0.295832  0.288223  -0.334661  0.208998  \n",
              "Ca         0.295832  1.000000  0.145570  -0.187667  0.149768  \n",
              "ExAng      0.288223  0.145570  1.000000  -0.314993  0.228084  \n",
              "ChestPain -0.334661 -0.187667 -0.314993   1.000000 -0.168103  \n",
              "Thal       0.208998  0.149768  0.228084  -0.168103  1.000000  "
            ],
            "text/html": [
              "\n",
              "  <div id=\"df-253f32e2-dc9f-4dc5-a951-42ab36746fde\">\n",
              "    <div class=\"colab-df-container\">\n",
              "      <div>\n",
              "<style scoped>\n",
              "    .dataframe tbody tr th:only-of-type {\n",
              "        vertical-align: middle;\n",
              "    }\n",
              "\n",
              "    .dataframe tbody tr th {\n",
              "        vertical-align: top;\n",
              "    }\n",
              "\n",
              "    .dataframe thead th {\n",
              "        text-align: right;\n",
              "    }\n",
              "</style>\n",
              "<table border=\"1\" class=\"dataframe\">\n",
              "  <thead>\n",
              "    <tr style=\"text-align: right;\">\n",
              "      <th></th>\n",
              "      <th>Age</th>\n",
              "      <th>Chol</th>\n",
              "      <th>RestBP</th>\n",
              "      <th>Fbs</th>\n",
              "      <th>RestECG</th>\n",
              "      <th>Slope</th>\n",
              "      <th>Oldpeak</th>\n",
              "      <th>Ca</th>\n",
              "      <th>ExAng</th>\n",
              "      <th>ChestPain</th>\n",
              "      <th>Thal</th>\n",
              "    </tr>\n",
              "  </thead>\n",
              "  <tbody>\n",
              "    <tr>\n",
              "      <th>Age</th>\n",
              "      <td>1.000000</td>\n",
              "      <td>0.208950</td>\n",
              "      <td>0.284946</td>\n",
              "      <td>0.118530</td>\n",
              "      <td>0.148868</td>\n",
              "      <td>0.161770</td>\n",
              "      <td>0.203805</td>\n",
              "      <td>0.362605</td>\n",
              "      <td>0.091661</td>\n",
              "      <td>-0.173124</td>\n",
              "      <td>0.061823</td>\n",
              "    </tr>\n",
              "    <tr>\n",
              "      <th>Chol</th>\n",
              "      <td>0.208950</td>\n",
              "      <td>1.000000</td>\n",
              "      <td>0.130120</td>\n",
              "      <td>0.009841</td>\n",
              "      <td>0.171043</td>\n",
              "      <td>-0.004062</td>\n",
              "      <td>0.046564</td>\n",
              "      <td>0.119000</td>\n",
              "      <td>0.061310</td>\n",
              "      <td>-0.015387</td>\n",
              "      <td>0.080874</td>\n",
              "    </tr>\n",
              "    <tr>\n",
              "      <th>RestBP</th>\n",
              "      <td>0.284946</td>\n",
              "      <td>0.130120</td>\n",
              "      <td>1.000000</td>\n",
              "      <td>0.175340</td>\n",
              "      <td>0.146560</td>\n",
              "      <td>0.117382</td>\n",
              "      <td>0.189171</td>\n",
              "      <td>0.098773</td>\n",
              "      <td>0.064762</td>\n",
              "      <td>-0.145149</td>\n",
              "      <td>0.057602</td>\n",
              "    </tr>\n",
              "    <tr>\n",
              "      <th>Fbs</th>\n",
              "      <td>0.118530</td>\n",
              "      <td>0.009841</td>\n",
              "      <td>0.175340</td>\n",
              "      <td>1.000000</td>\n",
              "      <td>0.069564</td>\n",
              "      <td>0.059894</td>\n",
              "      <td>0.005747</td>\n",
              "      <td>0.145478</td>\n",
              "      <td>0.025665</td>\n",
              "      <td>-0.023976</td>\n",
              "      <td>-0.007605</td>\n",
              "    </tr>\n",
              "    <tr>\n",
              "      <th>RestECG</th>\n",
              "      <td>0.148868</td>\n",
              "      <td>0.171043</td>\n",
              "      <td>0.146560</td>\n",
              "      <td>0.069564</td>\n",
              "      <td>1.000000</td>\n",
              "      <td>0.133946</td>\n",
              "      <td>0.114133</td>\n",
              "      <td>0.128343</td>\n",
              "      <td>0.084867</td>\n",
              "      <td>-0.157005</td>\n",
              "      <td>-0.011543</td>\n",
              "    </tr>\n",
              "    <tr>\n",
              "      <th>Slope</th>\n",
              "      <td>0.161770</td>\n",
              "      <td>-0.004062</td>\n",
              "      <td>0.117382</td>\n",
              "      <td>0.059894</td>\n",
              "      <td>0.133946</td>\n",
              "      <td>1.000000</td>\n",
              "      <td>0.577537</td>\n",
              "      <td>0.110119</td>\n",
              "      <td>0.257748</td>\n",
              "      <td>-0.250500</td>\n",
              "      <td>0.106051</td>\n",
              "    </tr>\n",
              "    <tr>\n",
              "      <th>Oldpeak</th>\n",
              "      <td>0.203805</td>\n",
              "      <td>0.046564</td>\n",
              "      <td>0.189171</td>\n",
              "      <td>0.005747</td>\n",
              "      <td>0.114133</td>\n",
              "      <td>0.577537</td>\n",
              "      <td>1.000000</td>\n",
              "      <td>0.295832</td>\n",
              "      <td>0.288223</td>\n",
              "      <td>-0.334661</td>\n",
              "      <td>0.208998</td>\n",
              "    </tr>\n",
              "    <tr>\n",
              "      <th>Ca</th>\n",
              "      <td>0.362605</td>\n",
              "      <td>0.119000</td>\n",
              "      <td>0.098773</td>\n",
              "      <td>0.145478</td>\n",
              "      <td>0.128343</td>\n",
              "      <td>0.110119</td>\n",
              "      <td>0.295832</td>\n",
              "      <td>1.000000</td>\n",
              "      <td>0.145570</td>\n",
              "      <td>-0.187667</td>\n",
              "      <td>0.149768</td>\n",
              "    </tr>\n",
              "    <tr>\n",
              "      <th>ExAng</th>\n",
              "      <td>0.091661</td>\n",
              "      <td>0.061310</td>\n",
              "      <td>0.064762</td>\n",
              "      <td>0.025665</td>\n",
              "      <td>0.084867</td>\n",
              "      <td>0.257748</td>\n",
              "      <td>0.288223</td>\n",
              "      <td>0.145570</td>\n",
              "      <td>1.000000</td>\n",
              "      <td>-0.314993</td>\n",
              "      <td>0.228084</td>\n",
              "    </tr>\n",
              "    <tr>\n",
              "      <th>ChestPain</th>\n",
              "      <td>-0.173124</td>\n",
              "      <td>-0.015387</td>\n",
              "      <td>-0.145149</td>\n",
              "      <td>-0.023976</td>\n",
              "      <td>-0.157005</td>\n",
              "      <td>-0.250500</td>\n",
              "      <td>-0.334661</td>\n",
              "      <td>-0.187667</td>\n",
              "      <td>-0.314993</td>\n",
              "      <td>1.000000</td>\n",
              "      <td>-0.168103</td>\n",
              "    </tr>\n",
              "    <tr>\n",
              "      <th>Thal</th>\n",
              "      <td>0.061823</td>\n",
              "      <td>0.080874</td>\n",
              "      <td>0.057602</td>\n",
              "      <td>-0.007605</td>\n",
              "      <td>-0.011543</td>\n",
              "      <td>0.106051</td>\n",
              "      <td>0.208998</td>\n",
              "      <td>0.149768</td>\n",
              "      <td>0.228084</td>\n",
              "      <td>-0.168103</td>\n",
              "      <td>1.000000</td>\n",
              "    </tr>\n",
              "  </tbody>\n",
              "</table>\n",
              "</div>\n",
              "      <button class=\"colab-df-convert\" onclick=\"convertToInteractive('df-253f32e2-dc9f-4dc5-a951-42ab36746fde')\"\n",
              "              title=\"Convert this dataframe to an interactive table.\"\n",
              "              style=\"display:none;\">\n",
              "        \n",
              "  <svg xmlns=\"http://www.w3.org/2000/svg\" height=\"24px\"viewBox=\"0 0 24 24\"\n",
              "       width=\"24px\">\n",
              "    <path d=\"M0 0h24v24H0V0z\" fill=\"none\"/>\n",
              "    <path d=\"M18.56 5.44l.94 2.06.94-2.06 2.06-.94-2.06-.94-.94-2.06-.94 2.06-2.06.94zm-11 1L8.5 8.5l.94-2.06 2.06-.94-2.06-.94L8.5 2.5l-.94 2.06-2.06.94zm10 10l.94 2.06.94-2.06 2.06-.94-2.06-.94-.94-2.06-.94 2.06-2.06.94z\"/><path d=\"M17.41 7.96l-1.37-1.37c-.4-.4-.92-.59-1.43-.59-.52 0-1.04.2-1.43.59L10.3 9.45l-7.72 7.72c-.78.78-.78 2.05 0 2.83L4 21.41c.39.39.9.59 1.41.59.51 0 1.02-.2 1.41-.59l7.78-7.78 2.81-2.81c.8-.78.8-2.07 0-2.86zM5.41 20L4 18.59l7.72-7.72 1.47 1.35L5.41 20z\"/>\n",
              "  </svg>\n",
              "      </button>\n",
              "      \n",
              "  <style>\n",
              "    .colab-df-container {\n",
              "      display:flex;\n",
              "      flex-wrap:wrap;\n",
              "      gap: 12px;\n",
              "    }\n",
              "\n",
              "    .colab-df-convert {\n",
              "      background-color: #E8F0FE;\n",
              "      border: none;\n",
              "      border-radius: 50%;\n",
              "      cursor: pointer;\n",
              "      display: none;\n",
              "      fill: #1967D2;\n",
              "      height: 32px;\n",
              "      padding: 0 0 0 0;\n",
              "      width: 32px;\n",
              "    }\n",
              "\n",
              "    .colab-df-convert:hover {\n",
              "      background-color: #E2EBFA;\n",
              "      box-shadow: 0px 1px 2px rgba(60, 64, 67, 0.3), 0px 1px 3px 1px rgba(60, 64, 67, 0.15);\n",
              "      fill: #174EA6;\n",
              "    }\n",
              "\n",
              "    [theme=dark] .colab-df-convert {\n",
              "      background-color: #3B4455;\n",
              "      fill: #D2E3FC;\n",
              "    }\n",
              "\n",
              "    [theme=dark] .colab-df-convert:hover {\n",
              "      background-color: #434B5C;\n",
              "      box-shadow: 0px 1px 3px 1px rgba(0, 0, 0, 0.15);\n",
              "      filter: drop-shadow(0px 1px 2px rgba(0, 0, 0, 0.3));\n",
              "      fill: #FFFFFF;\n",
              "    }\n",
              "  </style>\n",
              "\n",
              "      <script>\n",
              "        const buttonEl =\n",
              "          document.querySelector('#df-253f32e2-dc9f-4dc5-a951-42ab36746fde button.colab-df-convert');\n",
              "        buttonEl.style.display =\n",
              "          google.colab.kernel.accessAllowed ? 'block' : 'none';\n",
              "\n",
              "        async function convertToInteractive(key) {\n",
              "          const element = document.querySelector('#df-253f32e2-dc9f-4dc5-a951-42ab36746fde');\n",
              "          const dataTable =\n",
              "            await google.colab.kernel.invokeFunction('convertToInteractive',\n",
              "                                                     [key], {});\n",
              "          if (!dataTable) return;\n",
              "\n",
              "          const docLinkHtml = 'Like what you see? Visit the ' +\n",
              "            '<a target=\"_blank\" href=https://colab.research.google.com/notebooks/data_table.ipynb>data table notebook</a>'\n",
              "            + ' to learn more about interactive tables.';\n",
              "          element.innerHTML = '';\n",
              "          dataTable['output_type'] = 'display_data';\n",
              "          await google.colab.output.renderOutput(dataTable, element);\n",
              "          const docLink = document.createElement('div');\n",
              "          docLink.innerHTML = docLinkHtml;\n",
              "          element.appendChild(docLink);\n",
              "        }\n",
              "      </script>\n",
              "    </div>\n",
              "  </div>\n",
              "  "
            ]
          },
          "metadata": {},
          "execution_count": 20
        }
      ],
      "source": [
        "df['ChestPain'] = df.ChestPain.replace({\"typical\":1, \"asymptomatic\": 2, 'nonanginal': 3, 'nontypical':4})\n",
        "df['Thal'] = df.Thal.replace({'fixed': 1, 'normal': 2, 'reversable': 3})\n",
        "df[['Age', 'Sex1', 'Chol','RestBP', 'Fbs', 'RestECG', 'Slope', 'Oldpeak', 'Ca', 'ExAng', 'ChestPain', 'Thal']].corr()\n"
      ]
    },
    {
      "cell_type": "code",
      "execution_count": null,
      "metadata": {
        "colab": {
          "base_uri": "https://localhost:8080/",
          "height": 519
        },
        "id": "xIvMWqK_sshG",
        "outputId": "b5821760-41c0-4db3-f218-5d746eee48d4"
      },
      "outputs": [
        {
          "output_type": "execute_result",
          "data": {
            "text/plain": [
              "<class 'statsmodels.iolib.summary.Summary'>\n",
              "\"\"\"\n",
              "                 Generalized Linear Model Regression Results                  \n",
              "==============================================================================\n",
              "Dep. Variable:                    AHD   No. Observations:                  297\n",
              "Model:                            GLM   Df Residuals:                      284\n",
              "Model Family:                Binomial   Df Model:                           12\n",
              "Link Function:                  logit   Scale:                          1.0000\n",
              "Method:                          IRLS   Log-Likelihood:                -113.49\n",
              "Date:                Thu, 23 Jun 2022   Deviance:                       226.99\n",
              "Time:                        14:06:31   Pearson chi2:                     287.\n",
              "No. Iterations:                     6                                         \n",
              "Covariance Type:            nonrobust                                         \n",
              "================================================================================\n",
              "                   coef    std err          z      P>|z|      [0.025      0.975]\n",
              "--------------------------------------------------------------------------------\n",
              "Intercept       -9.0184      2.167     -4.162      0.000     -13.266      -4.771\n",
              "Sex1[T.Male]     1.3765      0.426      3.230      0.001       0.541       2.212\n",
              "Age              0.0052      0.021      0.245      0.807      -0.037       0.047\n",
              "Chol             0.0041      0.004      1.160      0.246      -0.003       0.011\n",
              "RestBP           0.0165      0.010      1.621      0.105      -0.003       0.036\n",
              "Fbs             -1.0297      0.507     -2.031      0.042      -2.024      -0.036\n",
              "RestECG          0.2011      0.173      1.164      0.244      -0.138       0.540\n",
              "Slope            0.7875      0.336      2.343      0.019       0.129       1.446\n",
              "Oldpeak          0.2789      0.205      1.361      0.174      -0.123       0.681\n",
              "Ca               1.3120      0.247      5.301      0.000       0.827       1.797\n",
              "ExAng            1.4776      0.372      3.976      0.000       0.749       2.206\n",
              "ChestPain       -0.2524      0.205     -1.234      0.217      -0.653       0.149\n",
              "Thal             0.9276      0.282      3.285      0.001       0.374       1.481\n",
              "================================================================================\n",
              "\"\"\""
            ],
            "text/html": [
              "<table class=\"simpletable\">\n",
              "<caption>Generalized Linear Model Regression Results</caption>\n",
              "<tr>\n",
              "  <th>Dep. Variable:</th>          <td>AHD</td>       <th>  No. Observations:  </th>  <td>   297</td> \n",
              "</tr>\n",
              "<tr>\n",
              "  <th>Model:</th>                  <td>GLM</td>       <th>  Df Residuals:      </th>  <td>   284</td> \n",
              "</tr>\n",
              "<tr>\n",
              "  <th>Model Family:</th>        <td>Binomial</td>     <th>  Df Model:          </th>  <td>    12</td> \n",
              "</tr>\n",
              "<tr>\n",
              "  <th>Link Function:</th>         <td>logit</td>      <th>  Scale:             </th> <td>  1.0000</td>\n",
              "</tr>\n",
              "<tr>\n",
              "  <th>Method:</th>                <td>IRLS</td>       <th>  Log-Likelihood:    </th> <td> -113.49</td>\n",
              "</tr>\n",
              "<tr>\n",
              "  <th>Date:</th>            <td>Thu, 23 Jun 2022</td> <th>  Deviance:          </th> <td>  226.99</td>\n",
              "</tr>\n",
              "<tr>\n",
              "  <th>Time:</th>                <td>14:06:31</td>     <th>  Pearson chi2:      </th>  <td>  287.</td> \n",
              "</tr>\n",
              "<tr>\n",
              "  <th>No. Iterations:</th>          <td>6</td>        <th>                     </th>     <td> </td>   \n",
              "</tr>\n",
              "<tr>\n",
              "  <th>Covariance Type:</th>     <td>nonrobust</td>    <th>                     </th>     <td> </td>   \n",
              "</tr>\n",
              "</table>\n",
              "<table class=\"simpletable\">\n",
              "<tr>\n",
              "        <td></td>          <th>coef</th>     <th>std err</th>      <th>z</th>      <th>P>|z|</th>  <th>[0.025</th>    <th>0.975]</th>  \n",
              "</tr>\n",
              "<tr>\n",
              "  <th>Intercept</th>    <td>   -9.0184</td> <td>    2.167</td> <td>   -4.162</td> <td> 0.000</td> <td>  -13.266</td> <td>   -4.771</td>\n",
              "</tr>\n",
              "<tr>\n",
              "  <th>Sex1[T.Male]</th> <td>    1.3765</td> <td>    0.426</td> <td>    3.230</td> <td> 0.001</td> <td>    0.541</td> <td>    2.212</td>\n",
              "</tr>\n",
              "<tr>\n",
              "  <th>Age</th>          <td>    0.0052</td> <td>    0.021</td> <td>    0.245</td> <td> 0.807</td> <td>   -0.037</td> <td>    0.047</td>\n",
              "</tr>\n",
              "<tr>\n",
              "  <th>Chol</th>         <td>    0.0041</td> <td>    0.004</td> <td>    1.160</td> <td> 0.246</td> <td>   -0.003</td> <td>    0.011</td>\n",
              "</tr>\n",
              "<tr>\n",
              "  <th>RestBP</th>       <td>    0.0165</td> <td>    0.010</td> <td>    1.621</td> <td> 0.105</td> <td>   -0.003</td> <td>    0.036</td>\n",
              "</tr>\n",
              "<tr>\n",
              "  <th>Fbs</th>          <td>   -1.0297</td> <td>    0.507</td> <td>   -2.031</td> <td> 0.042</td> <td>   -2.024</td> <td>   -0.036</td>\n",
              "</tr>\n",
              "<tr>\n",
              "  <th>RestECG</th>      <td>    0.2011</td> <td>    0.173</td> <td>    1.164</td> <td> 0.244</td> <td>   -0.138</td> <td>    0.540</td>\n",
              "</tr>\n",
              "<tr>\n",
              "  <th>Slope</th>        <td>    0.7875</td> <td>    0.336</td> <td>    2.343</td> <td> 0.019</td> <td>    0.129</td> <td>    1.446</td>\n",
              "</tr>\n",
              "<tr>\n",
              "  <th>Oldpeak</th>      <td>    0.2789</td> <td>    0.205</td> <td>    1.361</td> <td> 0.174</td> <td>   -0.123</td> <td>    0.681</td>\n",
              "</tr>\n",
              "<tr>\n",
              "  <th>Ca</th>           <td>    1.3120</td> <td>    0.247</td> <td>    5.301</td> <td> 0.000</td> <td>    0.827</td> <td>    1.797</td>\n",
              "</tr>\n",
              "<tr>\n",
              "  <th>ExAng</th>        <td>    1.4776</td> <td>    0.372</td> <td>    3.976</td> <td> 0.000</td> <td>    0.749</td> <td>    2.206</td>\n",
              "</tr>\n",
              "<tr>\n",
              "  <th>ChestPain</th>    <td>   -0.2524</td> <td>    0.205</td> <td>   -1.234</td> <td> 0.217</td> <td>   -0.653</td> <td>    0.149</td>\n",
              "</tr>\n",
              "<tr>\n",
              "  <th>Thal</th>         <td>    0.9276</td> <td>    0.282</td> <td>    3.285</td> <td> 0.001</td> <td>    0.374</td> <td>    1.481</td>\n",
              "</tr>\n",
              "</table>"
            ]
          },
          "metadata": {},
          "execution_count": 21
        }
      ],
      "source": [
        "model = sm.GLM.from_formula(\"AHD ~ Age + Sex1 + Chol + RestBP+ Fbs + RestECG + Slope + Oldpeak + Ca + ExAng + ChestPain + Thal\", family = sm.families.Binomial(), data=df)\n",
        "result = model.fit()\n",
        "result.summary()\n"
      ]
    },
    {
      "cell_type": "code",
      "execution_count": null,
      "metadata": {
        "colab": {
          "base_uri": "https://localhost:8080/"
        },
        "id": "MqArweiDsshH",
        "outputId": "b65c7d19-b491-4352-e3e4-f9adc990e3b7"
      },
      "outputs": [
        {
          "output_type": "stream",
          "name": "stdout",
          "text": [
            "1      0.285203\n",
            "2      0.996575\n",
            "3      0.991014\n",
            "4      0.537940\n",
            "5      0.032250\n",
            "         ...   \n",
            "299    0.480957\n",
            "300    0.906514\n",
            "301    0.909929\n",
            "302    0.185609\n",
            "303         NaN\n",
            "Length: 303, dtype: float64\n"
          ]
        }
      ],
      "source": [
        "X = df[['Age', 'Sex1', 'Chol','RestBP', 'Fbs', 'RestECG', 'Slope', 'Oldpeak', 'Ca', 'ExAng', 'ChestPain', 'Thal']]\n",
        "predicted_output = result.predict(X)\n",
        "print(predicted_output)\n"
      ]
    },
    {
      "cell_type": "code",
      "execution_count": null,
      "metadata": {
        "colab": {
          "base_uri": "https://localhost:8080/"
        },
        "id": "2GNTHBi4sshI",
        "outputId": "4f7e4823-5eae-4087-cd85-c329d7b249c4"
      },
      "outputs": [
        {
          "output_type": "stream",
          "name": "stdout",
          "text": [
            "1      0.0\n",
            "2      1.0\n",
            "3      1.0\n",
            "4      1.0\n",
            "5      0.0\n",
            "      ... \n",
            "299    0.0\n",
            "300    1.0\n",
            "301    1.0\n",
            "302    0.0\n",
            "303    0.0\n",
            "Length: 303, dtype: float64\n",
            "1      0\n",
            "2      1\n",
            "3      1\n",
            "4      0\n",
            "5      0\n",
            "      ..\n",
            "299    1\n",
            "300    1\n",
            "301    1\n",
            "302    1\n",
            "303    0\n",
            "Name: AHD, Length: 303, dtype: int64\n"
          ]
        }
      ],
      "source": [
        "\n",
        "# for i,item in enumerate(predicted_output):\n",
        "for i in range(1,len(predicted_output)):\n",
        "    predicted_output = predicted_output.replace()\n",
        "#     print(predicted_output[i] , end=\" \") ,\n",
        "    if (predicted_output[i] >= 0.5):\n",
        "        predicted_output = predicted_output.replace(predicted_output[i], 1)\n",
        "       \n",
        "    else:\n",
        "        predicted_output = predicted_output.replace(predicted_output[i], 0)\n",
        "\n",
        "print(predicted_output)\n",
        "print(df['AHD'])"
      ]
    },
    {
      "cell_type": "code",
      "execution_count": null,
      "metadata": {
        "colab": {
          "base_uri": "https://localhost:8080/"
        },
        "id": "0v4U4wOPsshJ",
        "outputId": "36915ff1-c34d-45e1-ae3d-2613cf2a48c2"
      },
      "outputs": [
        {
          "output_type": "execute_result",
          "data": {
            "text/plain": [
              "0.8085808580858086"
            ]
          },
          "metadata": {},
          "execution_count": 24
        }
      ],
      "source": [
        "accuracy = 0\n",
        "for i in range(1,len(predicted_output)):\n",
        "    \n",
        "    if (df['AHD'][i]) == (predicted_output[i]):\n",
        "        accuracy += 1\n",
        "             \n",
        "accuracy/len(df)\n",
        "    "
      ]
    },
    {
      "cell_type": "code",
      "execution_count": null,
      "metadata": {
        "id": "D5rPM-gTsshK"
      },
      "outputs": [],
      "source": [
        ""
      ]
    },
    {
      "cell_type": "code",
      "execution_count": null,
      "metadata": {
        "id": "QLnXG6oLsshK"
      },
      "outputs": [],
      "source": [
        ""
      ]
    }
  ],
  "metadata": {
    "kernelspec": {
      "display_name": "Python 3 (ipykernel)",
      "language": "python",
      "name": "python3"
    },
    "language_info": {
      "codemirror_mode": {
        "name": "ipython",
        "version": 3
      },
      "file_extension": ".py",
      "mimetype": "text/x-python",
      "name": "python",
      "nbconvert_exporter": "python",
      "pygments_lexer": "ipython3",
      "version": "3.10.1"
    },
    "colab": {
      "name": "Final_Submission.ipynb",
      "provenance": [],
      "include_colab_link": true
    }
  },
  "nbformat": 4,
  "nbformat_minor": 0
}